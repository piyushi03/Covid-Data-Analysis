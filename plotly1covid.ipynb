{
 "cells": [
  {
   "cell_type": "code",
   "execution_count": null,
   "id": "18647c2a",
   "metadata": {},
   "outputs": [],
   "source": [
    "import json \n",
    "import os \n",
    "import pandas as pd \n",
    "import numpy as np  \n",
    "import matplotlib.pyplot as plt \n",
    "from matplotlib import style \n",
    "style.use('ggplot')  \n",
    "import chart_studio.plotly as py \n",
    "import cufflinks as cf  \n",
    "import seaborn as sns \n",
    "import plotly \n",
    "import plotly.express as px  \n",
    "import plotly.graph_objects as go   \n",
    "import plotly.offline as pyo \n",
    "from plotly.offline import init_notebook_mode , plot , iplot  \n",
    "from plotly.subplots import make_subplots \n",
    "import folium \n",
    "%matplotlib inline \n",
    "init_notebook_mode(connected= True)\n",
    "cf.go_offline()"
   ]
  },
  {
   "cell_type": "markdown",
   "id": "8c6157a0",
   "metadata": {},
   "source": [
    "Covid Plots "
   ]
  },
  {
   "cell_type": "code",
   "execution_count": null,
   "id": "f87fd444",
   "metadata": {},
   "outputs": [],
   "source": [
    "pyo.init_notebook_mode(connected = True) \n",
    "cf.go_offline()"
   ]
  },
  {
   "cell_type": "code",
   "execution_count": null,
   "id": "d6c9b140",
   "metadata": {},
   "outputs": [],
   "source": [
    "df = pd.read_csv(\"state_wise.csv\")  \n",
    "df.drop(df[(df.State == 'Total')].index , inplace = True)\n",
    "# df = df.drop(['Total']) \n",
    "# to remove unnecessary data  \n",
    "#to create new column by adding 2 rows respectively say df['total cases'] = df['first name']+df['2nd name ']\n",
    "#will give total of that column = df['any column'].sum() \n",
    "#df['Active Cases']= df['Confirmed']-(df['Deaths']+df['Cured'])  \n",
    "df.style.background_gradient(cmap='Reds') \n"
   ]
  },
  {
   "cell_type": "code",
   "execution_count": null,
   "id": "4bb6eb78",
   "metadata": {},
   "outputs": [],
   "source": [
    "Total_active_cases = df.groupby('State')['Active'].sum().to_frame()\n",
    "Total_active_cases \n"
   ]
  },
  {
   "cell_type": "code",
   "execution_count": null,
   "id": "5c1a5f64",
   "metadata": {},
   "outputs": [],
   "source": [
    "Total_active_cases.style.background_gradient(cmap='Reds')"
   ]
  },
  {
   "cell_type": "markdown",
   "id": "996dfe3e",
   "metadata": {},
   "source": [
    "#####Graphical Representation "
   ]
  },
  {
   "cell_type": "code",
   "execution_count": null,
   "id": "b4cee9f3",
   "metadata": {},
   "outputs": [],
   "source": [
    "#Pandas vis \n",
    "df.plot(kind= 'bar', x= 'State', y = 'Active')"
   ]
  },
  {
   "cell_type": "code",
   "execution_count": null,
   "id": "ef30a912",
   "metadata": {},
   "outputs": [],
   "source": [
    "#Matplorlib vis \n",
    "plt.bar(df['State'], df['Active'])"
   ]
  },
  {
   "cell_type": "code",
   "execution_count": null,
   "id": "dcdefd70",
   "metadata": {},
   "outputs": [],
   "source": [
    "#plotly vis\n",
    "px.bar(df,x= 'State', y = 'Confirmed') "
   ]
  },
  {
   "cell_type": "code",
   "execution_count": null,
   "id": "b9ea97d0",
   "metadata": {},
   "outputs": [],
   "source": [
    "df.iplot(kind = 'scatter', x= 'State', y = 'Active', mode = 'lines', \n",
    "        title = 'State Active',xTitle= 'State', colors = 'red', size = 5 ) \n",
    "px.scatter(df,x= 'State', y = 'Active')"
   ]
  },
  {
   "cell_type": "code",
   "execution_count": null,
   "id": "7aba0cb2",
   "metadata": {},
   "outputs": [],
   "source": []
  },
  {
   "cell_type": "markdown",
   "id": "acb0844f",
   "metadata": {},
   "source": [
    "Object oriented "
   ]
  },
  {
   "cell_type": "markdown",
   "id": "f5d194d3",
   "metadata": {},
   "source": []
  },
  {
   "cell_type": "code",
   "execution_count": null,
   "id": "cb622de0",
   "metadata": {},
   "outputs": [],
   "source": [
    "fig = go.Figure() \n",
    "fig.add_trace(go.Bar(x=df['State'],y = df['Active']))  \n",
    "fig.update_layout(title = 'Total Cases In India' , xaxis = dict(title = 'State'),\n",
    "                  yaxis = dict(title = 'Confirmed'))"
   ]
  },
  {
   "cell_type": "code",
   "execution_count": null,
   "id": "305f92e1",
   "metadata": {},
   "outputs": [],
   "source": [
    "Indian_cord = pd.read_excel(\"Indian Coordinates.xlsx\")  \n",
    "df = pd.read_excel(\"Covid cases in India.xlsx\") \n",
    "df['Active Cases']= df['Total Confirmed cases (Indian National)']-(df['Death']+df['Cured'])   \n",
    "df['Total Cases'] = df['Total Confirmed cases (Indian National)']+df['Total Confirmed cases ( Foreign National )']\n",
    "df.drop(['S. No.'],axis =1 , inplace = True) "
   ]
  },
  {
   "cell_type": "code",
   "execution_count": null,
   "id": "c0299175",
   "metadata": {},
   "outputs": [],
   "source": [
    "Indian_cord  "
   ]
  },
  {
   "cell_type": "code",
   "execution_count": null,
   "id": "07993fed",
   "metadata": {},
   "outputs": [],
   "source": [
    "\n",
    "df_full = pd.merge(Indian_cord, df, on='Name of State / UT') \n",
    "df_full"
   ]
  },
  {
   "cell_type": "code",
   "execution_count": null,
   "id": "4350147c",
   "metadata": {},
   "outputs": [],
   "source": [
    "map = folium.Map(location = [20,70],zoom_start = 1,tiles = 'Stamenterrain') \n",
    "for lat,long,value,name in zip(df_full['Latitude'], df_full['Longitude'],df_full['Total Cases'], df_full['Name of State / UT']): \n",
    "  folium.CircleMarker([lat,long], radius = value*0.7, popup= ('<strong>State</strong>: '+str(name).capitalize()+'<br>''<strong>Total Cases</strong>: '+str(value)+'<br>'),color ='red', fill_color='red',fill_opacity= 0.3).add_to(map)  \n"
   ]
  },
  {
   "cell_type": "code",
   "execution_count": null,
   "id": "4fbc5796",
   "metadata": {},
   "outputs": [],
   "source": [
    "map"
   ]
  },
  {
   "cell_type": "markdown",
   "id": "6e588322",
   "metadata": {},
   "source": [
    "Covid Cases rising gobally "
   ]
  },
  {
   "cell_type": "code",
   "execution_count": null,
   "id": "e50dbcfb",
   "metadata": {},
   "outputs": [],
   "source": [
    " dbd_india = pd.read_excel(\"per_day_cases.xlsx\",parse_dates = True , sheet_name = 'India') \n",
    " dbd_italy = pd.read_excel(\"per_day_cases.xlsx\",parse_dates = True , sheet_name = 'Italy')    \n",
    " dbd_wuhan = pd.read_excel(\"per_day_cases.xlsx\",parse_dates = True , sheet_name = 'Wuhan') \n",
    " dbd_korea = pd.read_excel(\"per_day_cases.xlsx\",parse_dates = True , sheet_name = 'Korea') "
   ]
  },
  {
   "cell_type": "code",
   "execution_count": null,
   "id": "f53f78f7",
   "metadata": {},
   "outputs": [],
   "source": [
    "fig = px.bar(dbd_india, x= 'Date',y = \"Total Cases\",color = 'Total Cases',\n",
    "             title = 'Confirmed cases in India') \n",
    "fig.show()"
   ]
  },
  {
   "cell_type": "code",
   "execution_count": null,
   "id": "3a74b5ac",
   "metadata": {},
   "outputs": [],
   "source": [
    "fig = px.bar(dbd_italy, x= 'Date',y = \"Total Cases\",color = 'Total Cases',\n",
    "             title = 'Confirmed cases in Italy') \n",
    "fig.show() \n",
    "\n",
    "fig = px.bar(dbd_korea, x= 'Date',y = \"Total Cases\",color = 'Total Cases',\n",
    "             title = 'Confirmed cases in Korea') \n",
    "fig.show() \n",
    "fig = px.bar(dbd_wuhan, x= 'Date',y = \"Total Cases\",color = 'Total Cases',\n",
    "             title = 'Confirmed cases in Wuhan') \n",
    "fig.show() "
   ]
  },
  {
   "cell_type": "code",
   "execution_count": null,
   "id": "0f990e5e",
   "metadata": {},
   "outputs": [],
   "source": []
  },
  {
   "cell_type": "markdown",
   "id": "8d04bdb5",
   "metadata": {},
   "source": [
    "Scatter Plots "
   ]
  },
  {
   "cell_type": "code",
   "execution_count": null,
   "id": "43aaec9c",
   "metadata": {},
   "outputs": [],
   "source": [
    "fig = px.scatter(dbd_india, x= 'Date',y = \"Total Cases\",color = 'Total Cases',\n",
    "             title = 'Confirmed cases in India') \n",
    "fig.show()"
   ]
  },
  {
   "cell_type": "code",
   "execution_count": null,
   "id": "1d3ef1d9",
   "metadata": {},
   "outputs": [],
   "source": [
    "# Plotly \n",
    "dbd_india.iplot(kind= 'scatter', x ='Date', y = 'Total Cases', mode = 'lines+markers')"
   ]
  },
  {
   "cell_type": "code",
   "execution_count": null,
   "id": "68908159",
   "metadata": {},
   "outputs": [],
   "source": [
    "fig = go.Figure() \n",
    "fig.add_trace(go.Scatter(x =dbd_india['Date'], y = dbd_india['Total Cases'], mode = 'lines+markers'))"
   ]
  },
  {
   "cell_type": "code",
   "execution_count": null,
   "id": "b81534ad",
   "metadata": {},
   "outputs": [],
   "source": []
  },
  {
   "cell_type": "markdown",
   "id": "397c9f5c",
   "metadata": {},
   "source": [
    "Subplots using bar graph"
   ]
  },
  {
   "cell_type": "code",
   "execution_count": null,
   "id": "fc23e328",
   "metadata": {},
   "outputs": [],
   "source": [
    "fig = make_subplots(rows = 2 , cols=2, \n",
    "                    specs= [[{\"secondary_y\":True},{\"secondary_y\":True}], \n",
    "                           [{\"secondary_y\":True},{\"secondary_y\": True}]], \n",
    "                    subplot_titles= (\"S.Korea\",\"Italy\", \"India\",\"Wuhan\")) \n",
    "fig.add_trace(go.Bar(x=dbd_korea['Date'],y =dbd_korea['Total Cases'], \n",
    "                    marker= dict(color = dbd_korea['Total Cases'], coloraxis = \"coloraxis\")),1,1) \n",
    "fig.add_trace(go.Bar(x=dbd_italy['Date'],y =dbd_italy['Total Cases'], \n",
    "                    marker= dict(color = dbd_italy['Total Cases'], coloraxis = \"coloraxis\")),1,2) \n",
    "fig.add_trace(go.Bar(x=dbd_india['Date'],y =dbd_india['Total Cases'], \n",
    "                    marker= dict(color = dbd_india['Total Cases'], coloraxis = \"coloraxis\")),2,1) \n",
    "fig.add_trace(go.Bar(x=dbd_wuhan['Date'],y =dbd_wuhan['Total Cases'], \n",
    "                    marker= dict(color = dbd_wuhan['Total Cases'], coloraxis = \"coloraxis\")),2,2)  \n",
    "\n",
    "fig.update_layout(coloraxis = dict(colorscale= 'Bluered_r'),showlegend= False , title_text = \"Total Cases in 4 countries\")\n",
    "fig.update_layout(plot_bgcolor='rgb(230,230,230)') "
   ]
  },
  {
   "cell_type": "markdown",
   "id": "2be4dd66",
   "metadata": {},
   "source": [
    "Scatter"
   ]
  },
  {
   "cell_type": "code",
   "execution_count": null,
   "id": "62a12da5",
   "metadata": {},
   "outputs": [],
   "source": [
    "fig = make_subplots(rows = 2 , cols=2, \n",
    "                    specs= [[{\"secondary_y\":True},{\"secondary_y\":True}], \n",
    "                           [{\"secondary_y\":True},{\"secondary_y\": True}]], \n",
    "                    subplot_titles= (\"S.Korea\",\"Italy\", \"India\",\"Wuhan\")) \n",
    "fig.add_trace(go.Scatter(x=dbd_korea['Date'],y =dbd_korea['Total Cases'], \n",
    "                    marker= dict(color = dbd_korea['Total Cases'], coloraxis = \"coloraxis\")),1,1) \n",
    "fig.add_trace(go.Scatter(x=dbd_italy['Date'],y =dbd_italy['Total Cases'], \n",
    "                    marker= dict(color = dbd_italy['Total Cases'], coloraxis = \"coloraxis\")),1,2) \n",
    "fig.add_trace(go.Scatter(x=dbd_india['Date'],y =dbd_india['Total Cases'], \n",
    "                    marker= dict(color = dbd_india['Total Cases'], coloraxis = \"coloraxis\")),2,1) \n",
    "fig.add_trace(go.Scatter(x=dbd_wuhan['Date'],y =dbd_wuhan['Total Cases'], \n",
    "                    marker= dict(color = dbd_wuhan['Total Cases'], coloraxis = \"coloraxis\")),2,2)  \n",
    "\n",
    "fig.update_layout(coloraxis = dict(colorscale= 'Bluered_r'),showlegend= False , title_text = \"Total Cases in 4 countries\")\n",
    "fig.update_layout(plot_bgcolor='rgb(230,230,230)') "
   ]
  },
  {
   "cell_type": "markdown",
   "id": "75b60de6",
   "metadata": {},
   "source": [
    "World Corona virus "
   ]
  },
  {
   "cell_type": "code",
   "execution_count": null,
   "id": "052f9f99",
   "metadata": {},
   "outputs": [],
   "source": [
    "df = pd.read_csv('covid_19_data.csv',parse_dates = ['Last Update'])"
   ]
  },
  {
   "cell_type": "code",
   "execution_count": null,
   "id": "d32c253f",
   "metadata": {},
   "outputs": [],
   "source": [
    "df"
   ]
  },
  {
   "cell_type": "code",
   "execution_count": null,
   "id": "6a998894",
   "metadata": {},
   "outputs": [],
   "source": [
    "df.rename(columns = {'ObservationDate':'Date','Country/Region':'Country','Province/State':'State'},inplace = True)\n",
    "df"
   ]
  },
  {
   "cell_type": "code",
   "execution_count": null,
   "id": "ef2b4c3c",
   "metadata": {},
   "outputs": [],
   "source": [
    "df.query('Country==\"India\"') "
   ]
  },
  {
   "cell_type": "code",
   "execution_count": null,
   "id": "2a81b5f1",
   "metadata": {},
   "outputs": [],
   "source": [
    "df.groupby('State').sum()"
   ]
  },
  {
   "cell_type": "code",
   "execution_count": null,
   "id": "6257705d",
   "metadata": {},
   "outputs": [],
   "source": [
    "df.groupby('Date').sum() "
   ]
  },
  {
   "cell_type": "code",
   "execution_count": null,
   "id": "7afe871f",
   "metadata": {},
   "outputs": [],
   "source": [
    "confirmed = df.groupby('Date').sum()['Confirmed'].reset_index().head(100).sort_values(by = 'Confirmed',ascending = True)\n",
    "death = df.groupby('Date').sum()['Deaths'].reset_index().head(100).sort_values(by = 'Deaths',ascending = True) \n",
    "rec= df.groupby('Date').sum()['Recovered'].reset_index().head(100).sort_values(by = 'Recovered',ascending = True)"
   ]
  },
  {
   "cell_type": "code",
   "execution_count": null,
   "id": "a868e99f",
   "metadata": {},
   "outputs": [],
   "source": [
    "confirmed.sort_values(by = 'Confirmed',ascending = True)"
   ]
  },
  {
   "cell_type": "code",
   "execution_count": null,
   "id": "812bb390",
   "metadata": {},
   "outputs": [],
   "source": [
    "fig = go.Figure() \n",
    "fig.add_trace(go.Scatter(x=confirmed['Date'], y = confirmed['Confirmed'], \n",
    "                        mode = 'lines', name = 'confirmed',line= dict(\n",
    "                        color = 'blue',width = 2))) \n",
    "fig.add_trace(go.Scatter(x=death['Date'], y = death['Deaths'], \n",
    "                        mode = 'lines', name = 'deaths',line= dict(\n",
    "                        color = 'red',width = 2))) \n",
    "fig.add_trace(go.Scatter(x=rec['Date'], y = rec['Recovered'], \n",
    "                        mode = 'lines', name = 'recovered',line= dict(\n",
    "                        color = 'green',width = 2)))"
   ]
  },
  {
   "cell_type": "code",
   "execution_count": null,
   "id": "c1735528",
   "metadata": {},
   "outputs": [],
   "source": [
    "df_confirmed_us = pd.read_csv('time_series_covid_19_confirmed_US.csv')"
   ]
  },
  {
   "cell_type": "code",
   "execution_count": null,
   "id": "fd815f28",
   "metadata": {},
   "outputs": [],
   "source": [
    "df_confirmed_us.rename(columns={'Country_Region':'Country','Province_State':'State'},inplace = True) \n",
    "\n",
    "df_confirmed_us"
   ]
  },
  {
   "cell_type": "code",
   "execution_count": null,
   "id": "5b0122c1",
   "metadata": {},
   "outputs": [],
   "source": [
    "df_latlong_us = pd.merge(df,df_confirmed_us, on = ['Country','State']) "
   ]
  },
  {
   "cell_type": "code",
   "execution_count": null,
   "id": "499f41de",
   "metadata": {},
   "outputs": [],
   "source": [
    "df_latlong_us"
   ]
  },
  {
   "cell_type": "code",
   "execution_count": null,
   "id": "d73098de",
   "metadata": {},
   "outputs": [],
   "source": [
    "    fig = px.choropleth(df_latlong_us ,locations = 'UID', hover_name = \"State\",hover_data = [\"Confirmed\", \"Deaths\", \"Recovered\"]\n",
    "                       ,animation_frame = \"Date\", color_continuous_scale = \"Portland\" , height= 700) \n",
    "fig.update_layout(title= 'US Covid cases') \n",
    "fig.update_layout(mapbox_style= \"open-street-map\",mapbox_center_lon =0) \n",
    "fig.update_layout(margin={\"r\":0 , \"t\":0,\"l\":0, \"b\":0}) \n"
   ]
  },
  {
   "cell_type": "code",
   "execution_count": null,
   "id": "a46b8795",
   "metadata": {},
   "outputs": [],
   "source": [
    "            df_confirmed_us = pd.read_csv('us_counties_covid19_daily.csv')"
   ]
  },
  {
   "cell_type": "code",
   "execution_count": null,
   "id": "ccc932ca",
   "metadata": {},
   "outputs": [],
   "source": [
    "df_confirmed_us.rename(columns={'fips':'confirmed','Province_State':'State'},inplace = True)"
   ]
  },
  {
   "cell_type": "code",
   "execution_count": null,
   "id": "51c6d974",
   "metadata": {
    "scrolled": true
   },
   "outputs": [],
   "source": [
    "df_confirmed_us  \n",
    "df_confirmed_us.groupby('state').sum() \n",
    "df_confirmed_us.drop(df_confirmed_us.state==\"Virgin Islands\""
   ]
  },
  {
   "cell_type": "code",
   "execution_count": null,
   "id": "ff35301d",
   "metadata": {},
   "outputs": [],
   "source": [
    "df.query('Country==\"US\"')"
   ]
  },
  {
   "cell_type": "code",
   "execution_count": null,
   "id": "4918ccbd",
   "metadata": {},
   "outputs": [],
   "source": [
    "# df_latlong = pd.merge(df,df_confirmed_us, on = ['Country', 'State'])"
   ]
  },
  {
   "cell_type": "code",
   "execution_count": null,
   "id": "78b2f744",
   "metadata": {},
   "outputs": [],
   "source": [
    "import json "
   ]
  },
  {
   "cell_type": "code",
   "execution_count": null,
   "id": "92fbca77",
   "metadata": {},
   "outputs": [],
   "source": [
    "us_states = json.load(open(\"us-states.json\",'r')) \n",
    "us_states['features'][0] "
   ]
  },
  {
   "cell_type": "code",
   "execution_count": null,
   "id": "d43645cc",
   "metadata": {},
   "outputs": [],
   "source": [
    "df= df.query(\"Country=='US'\")    \n"
   ]
  },
  {
   "cell_type": "code",
   "execution_count": null,
   "id": "ddc4dcee",
   "metadata": {},
   "outputs": [],
   "source": [
    "state_id_map= {}\n",
    "for ids in us_states['features']: \n",
    "   state_id_map[ids['properties']['name']] = ids['id'] "
   ]
  },
  {
   "cell_type": "code",
   "execution_count": null,
   "id": "4c2da160",
   "metadata": {},
   "outputs": [],
   "source": [
    "state_id_map"
   ]
  },
  {
   "cell_type": "code",
   "execution_count": null,
   "id": "a8b8f44b",
   "metadata": {},
   "outputs": [],
   "source": [
    "df_confirmed_us['id']= df_confirmed_us['state'].apply(lambda x: state_id_map[x])"
   ]
  },
  {
   "cell_type": "code",
   "execution_count": null,
   "id": "7d75fa5e",
   "metadata": {},
   "outputs": [],
   "source": [
    "!git clone https://github.com/nytimes/covid-19-data.git"
   ]
  },
  {
   "cell_type": "code",
   "execution_count": null,
   "id": "d53bdd39",
   "metadata": {},
   "outputs": [],
   "source": [
    "\n",
    "df_us = pd.read_csv('us-counties.csv')\n",
    "df_us['new_date'] = pd.to_datetime(df_us['date'])\n",
    "df_us['Year-Week'] = df_us['new_date'].dt.strftime('%Y-%U')\n",
    "df_us.head()"
   ]
  },
  {
   "cell_type": "code",
   "execution_count": null,
   "id": "e610e238",
   "metadata": {},
   "outputs": [],
   "source": [
    "df_us.shape"
   ]
  },
  {
   "cell_type": "code",
   "execution_count": null,
   "id": "6a36d5d7",
   "metadata": {},
   "outputs": [],
   "source": [
    "df_us = df_us.sort_values(by=['county', 'state', 'new_date'])\n",
    "df_us_week = df_us.groupby(['county', 'state', 'fips', 'Year-Week']).first().reset_index()\n",
    "df_us_week\n",
    "df_us_week.head(100)"
   ]
  },
  {
   "cell_type": "code",
   "execution_count": null,
   "id": "49cb9799",
   "metadata": {},
   "outputs": [],
   "source": [
    "df_us_week['cases'].max(), df_us_week['cases'].min()"
   ]
  },
  {
   "cell_type": "code",
   "execution_count": null,
   "id": "d1b9032b",
   "metadata": {},
   "outputs": [],
   "source": [
    "from urllib.request import urlopen\n",
    "import json\n",
    "with urlopen('https://raw.githubusercontent.com/plotly/datasets/master/geojson-counties-fips.json') as response:\n",
    "    countries = json.load(response)\n",
    "\n",
    "countries[\"features\"][100]"
   ]
  },
  {
   "cell_type": "code",
   "execution_count": null,
   "id": "6812e6f2",
   "metadata": {},
   "outputs": [],
   "source": [
    "df_us_week = df_us_week.sort_values(by=['Year-Week'])\n",
    "fig = px.choropleth(df_us_week, geojson=countries, locations='fips', color='cases',\n",
    "                           color_continuous_scale=px.colors.sequential.OrRd,\n",
    "                           title = \"Total Weekly Cases by Counties\",\n",
    "                           scope=\"usa\",\n",
    "                           animation_frame=\"Year-Week\",\n",
    "                          )\n",
    "fig[\"layout\"].pop(\"updatemenus\")\n",
    "fig.show()"
   ]
  },
  {
   "cell_type": "code",
   "execution_count": null,
   "id": "6c11a5fd",
   "metadata": {},
   "outputs": [],
   "source": [
    "\n",
    "us_state_abbrev = {\n",
    "    'Alabama': 'AL',\n",
    "    'Alaska': 'AK',\n",
    "    'American Samoa': 'AS',\n",
    "    'Arizona': 'AZ',\n",
    "    'Arkansas': 'AR',\n",
    "    'California': 'CA',\n",
    "    'Colorado': 'CO',\n",
    "    'Connecticut': 'CT',\n",
    "    'Delaware': 'DE',\n",
    "    'District of Columbia': 'DC',\n",
    "    'Florida': 'FL',\n",
    "    'Georgia': 'GA',\n",
    "    'Guam': 'GU',\n",
    "    'Hawaii': 'HI',\n",
    "    'Idaho': 'ID',\n",
    "    'Illinois': 'IL',\n",
    "    'Indiana': 'IN',\n",
    "    'Iowa': 'IA',\n",
    "    'Kansas': 'KS',\n",
    "    'Kentucky': 'KY',\n",
    "    'Louisiana': 'LA',\n",
    "    'Maine': 'ME',\n",
    "    'Maryland': 'MD',\n",
    "    'Massachusetts': 'MA',\n",
    "    'Michigan': 'MI',\n",
    "    'Minnesota': 'MN',\n",
    "    'Mississippi': 'MS',\n",
    "    'Missouri': 'MO',\n",
    "    'Montana': 'MT',\n",
    "    'Nebraska': 'NE',\n",
    "    'Nevada': 'NV',\n",
    "    'New Hampshire': 'NH',\n",
    "    'New Jersey': 'NJ',\n",
    "    'New Mexico': 'NM',\n",
    "    'New York': 'NY',\n",
    "    'North Carolina': 'NC',\n",
    "    'North Dakota': 'ND',\n",
    "    'Northern Mariana Islands':'MP',\n",
    "    'Ohio': 'OH',\n",
    "    'Oklahoma': 'OK',\n",
    "    'Oregon': 'OR',\n",
    "    'Pennsylvania': 'PA',\n",
    "    'Puerto Rico': 'PR',\n",
    "    'Rhode Island': 'RI',\n",
    "    'South Carolina': 'SC',\n",
    "    'South Dakota': 'SD',\n",
    "    'Tennessee': 'TN',\n",
    "    'Texas': 'TX',\n",
    "    'Utah': 'UT',\n",
    "    'Vermont': 'VT',\n",
    "    'Virgin Islands': 'VI',\n",
    "    'Virginia': 'VA',\n",
    "    \n",
    "    'Washington': 'WA',\n",
    "    'West Virginia': 'WV',\n",
    "    'Wisconsin': 'WI',\n",
    "    'Wyoming': 'WY'\n",
    "}"
   ]
  },
  {
   "cell_type": "code",
   "execution_count": null,
   "id": "d6634b7c",
   "metadata": {},
   "outputs": [],
   "source": [
    "df_us_week['state_code'] = df_us_week['state'].map(us_state_abbrev)\n",
    "df_us_week.head()"
   ]
  },
  {
   "cell_type": "code",
   "execution_count": null,
   "id": "665a1fb7",
   "metadata": {},
   "outputs": [],
   "source": [
    "test = df_us_week[df_us_week.cases > 15000]\n",
    "test"
   ]
  },
  {
   "cell_type": "code",
   "execution_count": null,
   "id": "19fc46c9",
   "metadata": {},
   "outputs": [],
   "source": [
    "df_us_week = df_us_week.sort_values(by=['Year-Week'])\n",
    "fig = px.choropleth(df_us_week, locations='state_code', color='cases',\n",
    "                           color_continuous_scale=px.colors.sequential.OrRd,\n",
    "                           hover_name = 'state_code', \n",
    "                           locationmode = 'USA-states',\n",
    "                           animation_frame=\"Year-Week\",\n",
    "                          )\n",
    "fig.update_layout(\n",
    "    title_text = 'Weekly Total Deaths by State', # Create a Title\n",
    "    geo_scope='usa',  # Plot only the USA instead of globe\n",
    ")\n",
    "fig.show()  # Output the plot to the screen"
   ]
  },
  {
   "cell_type": "code",
   "execution_count": null,
   "id": "260073e4",
   "metadata": {},
   "outputs": [],
   "source": [
    "df_us_week = df_us_week.sort_values(by=['Year-Week'])\n",
    "fig = px.choropleth(df_us_week, geojson=countries, locations='fips', color='cases',\n",
    "                           color_continuous_scale=\"Viridis\", \n",
    "                            #range_color(0,20),\n",
    "                           title = \"Total Weekly Cases by Counrties\",\n",
    "                           scope=\"usa\", \n",
    "                           hover_name=\"state\", hover_data=[\"cases\", \"deaths\"],\n",
    "                           animation_frame=\"Year-Week\", \n",
    "                          labels={'cases':'Cases'}\n",
    "                          )\n",
    "fig[\"layout\"].pop(\"updatemenus\")\n",
    "fig.show()"
   ]
  },
  {
   "cell_type": "code",
   "execution_count": null,
   "id": "9aa38d79",
   "metadata": {},
   "outputs": [],
   "source": []
  }
 ],
 "metadata": {
  "kernelspec": {
   "display_name": "Python 3",
   "language": "python",
   "name": "python3"
  },
  "language_info": {
   "codemirror_mode": {
    "name": "ipython",
    "version": 3
   },
   "file_extension": ".py",
   "mimetype": "text/x-python",
   "name": "python",
   "nbconvert_exporter": "python",
   "pygments_lexer": "ipython3",
   "version": "3.8.8"
  }
 },
 "nbformat": 4,
 "nbformat_minor": 5
}
